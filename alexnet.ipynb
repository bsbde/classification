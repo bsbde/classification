{
 "cells": [
  {
   "cell_type": "code",
   "execution_count": 6,
   "id": "a504c361-ec99-458f-8024-1c7cba4e3cf8",
   "metadata": {},
   "outputs": [],
   "source": [
    "import torch \n",
    "import torch.nn as nn \n",
    "import torch.nn.functional as F\n",
    "import torch.optim as optim\n",
    "import torchvision\n",
    "from torchvision import transforms\n",
    "import numpy as np \n",
    "import matplotlib.pyplot as plt \n",
    "import time\n",
    "from skimage import io\n",
    "import skimage.transform as tr\n",
    "import warnings \n",
    "import copy\n",
    "plt.style.use('seaborn')\n",
    "warnings.filterwarnings('ignore')"
   ]
  },
  {
   "cell_type": "code",
   "execution_count": 7,
   "id": "4e0f72a2-96d1-4af7-8f57-c746d6b2a02c",
   "metadata": {},
   "outputs": [],
   "source": [
    "train_dir ='datasets/train/'\n",
    "test_dir = 'datasets/test/'"
   ]
  },
  {
   "cell_type": "code",
   "execution_count": 8,
   "id": "001438bf-fa6b-417d-8108-ec0b1c1fd482",
   "metadata": {},
   "outputs": [],
   "source": [
    "train_transform = transforms.Compose([\n",
    "    transforms.Resize((256,256)),       #  输入尺寸\n",
    "    transforms.RandomCrop((224,224)),  #  裁剪尺寸\n",
    "    transforms.RandomHorizontalFlip(p=0.5),  # 随机水平翻转\n",
    "    transforms.ColorJitter(\n",
    "        brightness=(0.7,1.3),  # 明暗程度\n",
    "        contrast=(0.7,1.3),    # 对比度\n",
    "        saturation=(0.7,1.3),  # 饱和度\n",
    "        hue=(-0.05,0.05)),     # 颜色\n",
    "    transforms.ToTensor(),    # 数据转为张量并做归一化\n",
    "    transforms.Normalize(   # 数据标准化\n",
    "        mean = [.5,.5,.5],    # RGB均值\n",
    "        std = [.5,.5,.5])      # RGB 方差  （可以使用经验值（查阅））\n",
    "])\n",
    "test_transform = transforms.Compose([\n",
    "    transforms.Resize((224,224)),   # 输入尺寸（在预测中应遵循此尺寸）\n",
    "    transforms.ToTensor(),         # 张量      \n",
    "    transforms.Normalize(         # 标准化\n",
    "        mean = [.5,.5,.5],\n",
    "        std = [.5,.5,.5])\n",
    "])"
   ]
  },
  {
   "cell_type": "code",
   "execution_count": 16,
   "id": "1f995ea7-ff4b-4219-80a1-3bb3bb46df18",
   "metadata": {},
   "outputs": [],
   "source": [
    "train_ds = torchvision.datasets.ImageFolder(\n",
    "    train_dir,    # 导入训练文件夹路径\n",
    "    transform=train_transform  # 数据处理与增强\n",
    ")\n",
    "test_ds = torchvision.datasets.ImageFolder(\n",
    "    test_dir,     # 导入测试文件夹路径\n",
    "    transform=test_transform   # 数据处理与增强\n",
    "\n",
    ")\n",
    "# 创建dl\n",
    "BATCHSIZE = 50 # batch_size的批量尺寸\n",
    "train_dl = torch.utils.data.DataLoader(\n",
    "    train_ds,   # 将打包好的数据生成可迭代的batch_size个数的批量数据\n",
    "    batch_size=BATCHSIZE,  # batch_size 值得选择应对照本机配置\n",
    "    shuffle=True   # 打乱（必须打乱否则模型会识别顺序）\n",
    ")\n",
    "test_dl = torch.utils.data.DataLoader(\n",
    "    test_ds,      \n",
    "    batch_size=BATCHSIZE\n",
    ")"
   ]
  },
  {
   "cell_type": "code",
   "execution_count": 17,
   "id": "60029a0d-489e-4325-ab89-aacaa9368f6b",
   "metadata": {},
   "outputs": [],
   "source": [
    "model = torchvision.models.alexnet(pretrained=True)\n"
   ]
  },
  {
   "cell_type": "code",
   "execution_count": 18,
   "id": "e5fa545a-e36b-414b-aa51-70e90f488671",
   "metadata": {},
   "outputs": [
    {
     "name": "stdout",
     "output_type": "stream",
     "text": [
      "cuda\n"
     ]
    }
   ],
   "source": [
    "model = torchvision.models.alexnet(pretrained=True)\n",
    "# model.fc.out_features = 9\n",
    "# 冻结 卷积基 操作\n",
    "for param in model.features.parameters():\n",
    "    param.requires_grad=False\n",
    "# model.fc =nn.Linear(model.fc.in_features,9)\n",
    "model.classifier[-1].out_features = 9\n",
    "device =torch.device( 'cuda' if torch.cuda.is_available() else 'cpu')\n",
    "print(device)\n",
    "# 模拟模型放入加速运算的GPU\n",
    "model = model.to(device)\n",
    "loss_fn = nn.CrossEntropyLoss()\n",
    "optimizer = torch.optim.Adam(model.parameters(),lr=0.0001)\n",
    "exp_lr_scheduler= torch.optim.lr_scheduler.StepLR(optimizer,step_size=20,gamma=0.1)"
   ]
  },
  {
   "cell_type": "code",
   "execution_count": 19,
   "id": "5e08e77f-399e-4868-b696-5cd95ec618a9",
   "metadata": {},
   "outputs": [],
   "source": [
    "def train(dataloader,model,loss_fn,optimizer):\n",
    "    # acc 当前样本一共有多少个\n",
    "    size = len(dataloader.dataset)\n",
    "    num_batches = len(dataloader)\n",
    "    # 初始化loss值\n",
    "    train_loss,correct = 0,0\n",
    "    model.train()  # 模式为训练模式\n",
    "    for X,y in dataloader:\n",
    "        # 前向传播（推理）\n",
    "        X,y = X.to(device),y.to(device)\n",
    "        pred = model(X)\n",
    "        # 产生误差\n",
    "        loss = loss_fn(pred,y)  # 返回平均误差\n",
    "        # loss = torch.nn.functional.cross_entropy(pred, y)\n",
    "        # 归零权重(固定写法)\n",
    "        optimizer.zero_grad()\n",
    "        # loss = torch.zeros(1, requires_grad=True)\n",
    "        # 反向传递\n",
    "        loss.backward()\n",
    "        \n",
    "        # 利用梯度下降优化参数\n",
    "        optimizer.step()\n",
    "        # # 放弃张量微分的追踪（小验证）\n",
    "        with torch.no_grad():\n",
    "            train_loss += loss.item()\n",
    "            correct += (pred.argmax(1) == y).type(torch.float).sum().item()\n",
    "    exp_lr_scheduler.step()\n",
    "    lr_res = optimizer.state_dict()['param_groups'][0]['lr']  \n",
    "    correct /= size        \n",
    "    train_loss /= num_batches\n",
    "    return train_loss,correct,lr_res"
   ]
  },
  {
   "cell_type": "code",
   "execution_count": 20,
   "id": "8fd59992-df76-4f16-b5e5-a2a7a3892c74",
   "metadata": {},
   "outputs": [],
   "source": [
    "def test(dataloader,model):\n",
    "    # acc 当前样本一共有多少个\n",
    "    size = len(dataloader.dataset)\n",
    "    num_batches = len(dataloader)\n",
    "    test_loss,correct = 0,0\n",
    "    model.eval()  # 推理模式\n",
    "    with torch.no_grad():\n",
    "        for X,y in dataloader:\n",
    "            X,y = X.to(device),y.to(device)\n",
    "            pred = model(X)\n",
    "            test_loss += loss_fn(pred,y)\n",
    "            correct += (pred.argmax(1) == y).type(torch.float).sum().item()\n",
    "    correct /= size        \n",
    "    test_loss /= num_batches\n",
    "    return test_loss,correct"
   ]
  },
  {
   "cell_type": "code",
   "execution_count": 21,
   "id": "fb9ffb79-410d-48e1-9884-2e4efb0337dd",
   "metadata": {},
   "outputs": [],
   "source": [
    "def fit(epochs,train_dl,test_dl,model,loss_fn,optimizer,\n",
    "        exp_lr_scheduler=None):\n",
    "    train_acc = []\n",
    "    train_loss = []\n",
    "    test_acc = []\n",
    "    test_loss = []\n",
    "    for epoch in range(epochs):\n",
    "        start  =  time.time()\n",
    "        epoch_loss,epoch_acc,lr = train(dataloader=train_dl,model=model,loss_fn=loss_fn,optimizer=optimizer)\n",
    "        epoch_test_loss,epoch_test_acc = test(dataloader=test_dl,model=model)\n",
    "        end = time.time()\n",
    "        times = end - start \n",
    "        train_acc.append(epoch_acc)\n",
    "        train_loss.append(epoch_loss)\n",
    "        test_acc.append(epoch_test_acc)\n",
    "        test_loss.append(epoch_test_loss)\n",
    "        if exp_lr_scheduler:\n",
    "            exp_lr_scheduler.step()\n",
    "        # print('训练epoch{},训练集损失值:{:.2f},训练集的准确率:{:.2f}%,测试集损失值:{:.2f},测试集的准确率:{:.2f}%,消耗时间：{:.2f}s'.\n",
    "        #       format(epoch+1,epoch_loss,epoch_acc*100,epoch_test_loss,epoch_test_acc*100,times))\n",
    "        print('训练epoch{},训练集损失值:{:.2f},训练集的准确率:{:.2f}%,测试集损失值:{:.2f},测试集的准确率:{:.2f}%,当前学习率：{}，消耗时间：{:.2f}s'.\n",
    "                format(epoch+1,epoch_loss,epoch_acc*100,epoch_test_loss,epoch_test_acc*100,lr,times))\n",
    "        \n",
    "    return train_loss,test_loss,train_acc,test_acc"
   ]
  },
  {
   "cell_type": "code",
   "execution_count": 22,
   "id": "460e2c92-a250-4fbd-9b20-8d6da0287f4d",
   "metadata": {},
   "outputs": [
    {
     "name": "stdout",
     "output_type": "stream",
     "text": [
      "训练epoch1,训练集损失值:1.41,训练集的准确率:56.40%,测试集损失值:0.66,测试集的准确率:76.27%,当前学习率：0.0001，消耗时间：74.23s\n",
      "训练epoch2,训练集损失值:0.87,训练集的准确率:69.45%,测试集损失值:0.55,测试集的准确率:80.04%,当前学习率：0.0001，消耗时间：70.46s\n",
      "训练epoch3,训练集损失值:0.74,训练集的准确率:73.57%,测试集损失值:0.47,测试集的准确率:82.82%,当前学习率：0.0001，消耗时间：70.60s\n",
      "训练epoch4,训练集损失值:0.66,训练集的准确率:76.60%,测试集损失值:0.41,测试集的准确率:85.21%,当前学习率：0.0001，消耗时间：71.56s\n",
      "训练epoch5,训练集损失值:0.58,训练集的准确率:79.66%,测试集损失值:0.38,测试集的准确率:85.90%,当前学习率：0.0001，消耗时间：70.23s\n",
      "训练epoch6,训练集损失值:0.54,训练集的准确率:81.04%,测试集损失值:0.34,测试集的准确率:87.68%,当前学习率：0.0001，消耗时间：70.54s\n",
      "训练epoch7,训练集损失值:0.51,训练集的准确率:82.25%,测试集损失值:0.36,测试集的准确率:87.42%,当前学习率：0.0001，消耗时间：70.21s\n",
      "训练epoch8,训练集损失值:0.48,训练集的准确率:83.32%,测试集损失值:0.32,测试集的准确率:88.33%,当前学习率：0.0001，消耗时间：70.21s\n",
      "训练epoch9,训练集损失值:0.44,训练集的准确率:84.68%,测试集损失值:0.29,测试集的准确率:90.15%,当前学习率：0.0001，消耗时间：70.73s\n",
      "训练epoch10,训练集损失值:0.41,训练集的准确率:85.55%,测试集损失值:0.30,测试集的准确率:89.80%,当前学习率：0.0001，消耗时间：70.44s\n",
      "训练epoch11,训练集损失值:0.39,训练集的准确率:86.32%,测试集损失值:0.30,测试集的准确率:90.07%,当前学习率：0.0001，消耗时间：70.67s\n",
      "训练epoch12,训练集损失值:0.37,训练集的准确率:86.91%,测试集损失值:0.32,测试集的准确率:88.42%,当前学习率：0.0001，消耗时间：70.16s\n",
      "训练epoch13,训练集损失值:0.37,训练集的准确率:87.17%,测试集损失值:0.30,测试集的准确率:89.80%,当前学习率：0.0001，消耗时间：70.38s\n",
      "训练epoch14,训练集损失值:0.34,训练集的准确率:88.31%,测试集损失值:0.29,测试集的准确率:90.37%,当前学习率：0.0001，消耗时间：70.11s\n",
      "训练epoch15,训练集损失值:0.33,训练集的准确率:88.50%,测试集损失值:0.29,测试集的准确率:90.15%,当前学习率：0.0001，消耗时间：70.71s\n",
      "训练epoch16,训练集损失值:0.32,训练集的准确率:88.80%,测试集损失值:0.28,测试集的准确率:90.76%,当前学习率：0.0001，消耗时间：70.74s\n",
      "训练epoch17,训练集损失值:0.32,训练集的准确率:89.01%,测试集损失值:0.26,测试集的准确率:91.32%,当前学习率：0.0001，消耗时间：70.76s\n",
      "训练epoch18,训练集损失值:0.30,训练集的准确率:89.27%,测试集损失值:0.29,测试集的准确率:90.72%,当前学习率：0.0001，消耗时间：71.40s\n",
      "训练epoch19,训练集损失值:0.29,训练集的准确率:89.84%,测试集损失值:0.27,测试集的准确率:90.59%,当前学习率：0.0001，消耗时间：72.12s\n",
      "训练epoch20,训练集损失值:0.28,训练集的准确率:90.09%,测试集损失值:0.27,测试集的准确率:91.28%,当前学习率：1e-05，消耗时间：72.79s\n",
      "训练epoch21,训练集损失值:0.24,训练集的准确率:91.78%,测试集损失值:0.24,测试集的准确率:92.36%,当前学习率：1e-05，消耗时间：71.91s\n",
      "训练epoch22,训练集损失值:0.21,训练集的准确率:92.82%,测试集损失值:0.23,测试集的准确率:93.02%,当前学习率：1e-05，消耗时间：71.95s\n",
      "训练epoch23,训练集损失值:0.20,训练集的准确率:93.04%,测试集损失值:0.22,测试集的准确率:93.36%,当前学习率：1e-05，消耗时间：72.28s\n",
      "训练epoch24,训练集损失值:0.19,训练集的准确率:93.44%,测试集损失值:0.22,测试集的准确率:93.06%,当前学习率：1e-05，消耗时间：71.90s\n",
      "训练epoch25,训练集损失值:0.19,训练集的准确率:93.60%,测试集损失值:0.22,测试集的准确率:93.62%,当前学习率：1e-05，消耗时间：71.61s\n",
      "训练epoch26,训练集损失值:0.18,训练集的准确率:93.66%,测试集损失值:0.22,测试集的准确率:93.54%,当前学习率：1e-05，消耗时间：73.11s\n",
      "训练epoch27,训练集损失值:0.17,训练集的准确率:94.00%,测试集损失值:0.21,测试集的准确率:93.71%,当前学习率：1e-05，消耗时间：73.15s\n",
      "训练epoch28,训练集损失值:0.17,训练集的准确率:94.36%,测试集损失值:0.21,测试集的准确率:93.97%,当前学习率：1e-05，消耗时间：71.90s\n",
      "训练epoch29,训练集损失值:0.17,训练集的准确率:94.10%,测试集损失值:0.21,测试集的准确率:93.80%,当前学习率：1e-05，消耗时间：71.52s\n",
      "训练epoch30,训练集损失值:0.17,训练集的准确率:94.14%,测试集损失值:0.21,测试集的准确率:93.93%,当前学习率：1e-05，消耗时间：73.57s\n",
      "训练epoch31,训练集损失值:0.16,训练集的准确率:94.78%,测试集损失值:0.21,测试集的准确率:94.19%,当前学习率：1e-05，消耗时间：74.19s\n",
      "训练epoch32,训练集损失值:0.17,训练集的准确率:94.23%,测试集损失值:0.21,测试集的准确率:94.01%,当前学习率：1e-05，消耗时间：75.88s\n",
      "训练epoch33,训练集损失值:0.15,训练集的准确率:94.68%,测试集损失值:0.21,测试集的准确率:94.01%,当前学习率：1e-05，消耗时间：74.88s\n",
      "训练epoch34,训练集损失值:0.16,训练集的准确率:94.69%,测试集损失值:0.21,测试集的准确率:94.27%,当前学习率：1e-05，消耗时间：74.94s\n",
      "训练epoch35,训练集损失值:0.16,训练集的准确率:94.67%,测试集损失值:0.21,测试集的准确率:94.19%,当前学习率：1e-05，消耗时间：74.71s\n",
      "训练epoch36,训练集损失值:0.15,训练集的准确率:94.78%,测试集损失值:0.20,测试集的准确率:94.06%,当前学习率：1e-05，消耗时间：72.93s\n",
      "训练epoch37,训练集损失值:0.15,训练集的准确率:94.82%,测试集损失值:0.21,测试集的准确率:94.01%,当前学习率：1e-05，消耗时间：71.98s\n",
      "训练epoch38,训练集损失值:0.14,训练集的准确率:94.91%,测试集损失值:0.20,测试集的准确率:94.19%,当前学习率：1e-05，消耗时间：71.09s\n",
      "训练epoch39,训练集损失值:0.15,训练集的准确率:95.10%,测试集损失值:0.21,测试集的准确率:93.80%,当前学习率：1e-05，消耗时间：70.32s\n",
      "训练epoch40,训练集损失值:0.15,训练集的准确率:94.61%,测试集损失值:0.21,测试集的准确率:94.19%,当前学习率：1.0000000000000002e-06，消耗时间：71.14s\n",
      "训练epoch41,训练集损失值:0.15,训练集的准确率:94.82%,测试集损失值:0.21,测试集的准确率:94.14%,当前学习率：1.0000000000000002e-06，消耗时间：70.60s\n",
      "训练epoch42,训练集损失值:0.14,训练集的准确率:95.31%,测试集损失值:0.21,测试集的准确率:94.14%,当前学习率：1.0000000000000002e-06，消耗时间：70.70s\n",
      "训练epoch43,训练集损失值:0.15,训练集的准确率:95.11%,测试集损失值:0.21,测试集的准确率:94.10%,当前学习率：1.0000000000000002e-06，消耗时间：72.50s\n",
      "训练epoch44,训练集损失值:0.14,训练集的准确率:95.24%,测试集损失值:0.21,测试集的准确率:94.23%,当前学习率：1.0000000000000002e-06，消耗时间：71.73s\n",
      "训练epoch45,训练集损失值:0.14,训练集的准确率:95.40%,测试集损失值:0.20,测试集的准确率:94.32%,当前学习率：1.0000000000000002e-06，消耗时间：72.44s\n",
      "训练epoch46,训练集损失值:0.14,训练集的准确率:95.03%,测试集损失值:0.21,测试集的准确率:94.19%,当前学习率：1.0000000000000002e-06，消耗时间：72.78s\n",
      "训练epoch47,训练集损失值:0.14,训练集的准确率:95.29%,测试集损失值:0.20,测试集的准确率:94.19%,当前学习率：1.0000000000000002e-06，消耗时间：72.83s\n",
      "训练epoch48,训练集损失值:0.14,训练集的准确率:95.20%,测试集损失值:0.20,测试集的准确率:94.19%,当前学习率：1.0000000000000002e-06，消耗时间：69.99s\n",
      "训练epoch49,训练集损失值:0.14,训练集的准确率:95.16%,测试集损失值:0.20,测试集的准确率:94.27%,当前学习率：1.0000000000000002e-06，消耗时间：70.34s\n",
      "训练epoch50,训练集损失值:0.14,训练集的准确率:95.19%,测试集损失值:0.20,测试集的准确率:94.27%,当前学习率：1.0000000000000002e-06，消耗时间：71.20s\n"
     ]
    }
   ],
   "source": [
    "res = fit(50,train_dl,test_dl,model,loss_fn,optimizer)"
   ]
  },
  {
   "cell_type": "code",
   "execution_count": 24,
   "id": "f4282228-2f56-40b1-84c7-e037d8a9feb6",
   "metadata": {},
   "outputs": [],
   "source": [
    "# print(f'device:{torch.cuda.get_device_name(0)}')\n",
    "torch.save(model.state_dict(),'alexnet.pth')"
   ]
  },
  {
   "cell_type": "code",
   "execution_count": 45,
   "id": "c995ced6-eee7-4d98-997d-6b6fa5a251f9",
   "metadata": {},
   "outputs": [
    {
     "data": {
      "image/png": "[encoded data removed]",
      "text/plain": [
       "<Figure size 576x396 with 1 Axes>"
      ]
     },
     "metadata": {},
     "output_type": "display_data"
    }
   ],
   "source": [
    "### 训练曲线可视化\n",
    "# 准确率\n",
    "train_loss = res[0]\n",
    "test_loss = res[1]\n",
    "train_acc = res[2]\n",
    "test_acc = res[3]\n",
    "train_acc_max_index = np.argmax(np.array(train_acc))\n",
    "train_acc_max_value = round(train_acc[train_acc_max_index],6)\n",
    "test_acc_max_index = np.argmax(np.array(test_acc))\n",
    "test_acc_max_value = round(test_acc[test_acc_max_index],6)\n",
    "\n",
    "s = train_acc_max_value\n",
    "s_test = test_acc_max_value\n",
    "plt.plot(range(1,51),train_acc,label='train_acc')\n",
    "plt.plot(range(1,51),test_acc,label='test_acc')\n",
    "plt.text(train_acc_max_index, train_acc_max_value-0.02, s)\n",
    "plt.text(test_acc_max_index, test_acc_max_value+0.01, s_test)\n",
    "plt.plot(train_acc_max_index+1,train_acc_max_value,'bo')\n",
    "plt.plot(test_acc_max_index+1,test_acc_max_value,'go')\n",
    "plt.title('alexnet Acc values')\n",
    "plt.ylim(0.5,1.08)\n",
    "plt.xlim(0,51)\n",
    "plt.legend()\n",
    "plt.savefig('alexnet_acc')"
   ]
  },
  {
   "cell_type": "code",
   "execution_count": 43,
   "id": "e26840f9-901a-413b-a6ad-305ed67803db",
   "metadata": {},
   "outputs": [
    {
     "data": {
      "image/png": "[encoded data removed]",
      "text/plain": [
       "<Figure size 576x396 with 1 Axes>"
      ]
     },
     "metadata": {},
     "output_type": "display_data"
    }
   ],
   "source": [
    "## 训练曲线可视化\n",
    "# 损失值\n",
    "train_loss_min_index = np.argmin(np.array(train_loss))\n",
    "train_loss_min_value = round(train_loss[train_loss_min_index],6)\n",
    "test_loss = torch.stack(test_loss).cpu().numpy()\n",
    "test_loss_min_index = np.argmin(test_loss)\n",
    "test_loss_min_value = round(test_loss[test_loss_min_index],6)\n",
    "\n",
    "s = train_loss_min_value\n",
    "s_test = test_loss_min_value\n",
    "plt.plot(range(1,51),train_loss,label='train_loss')\n",
    "plt.plot(range(1,51),test_loss,label='test_loss')\n",
    "plt.text(train_loss_min_index, train_loss_min_value+0.1, s)\n",
    "plt.text(test_loss_min_index, test_loss_min_value+0.1, s_test)\n",
    "plt.plot(train_loss_min_index+1,train_loss_min_value,'ro')\n",
    "plt.plot(test_loss_min_index+1,test_loss_min_value,'bo')\n",
    "plt.title('alexnet Loss values')\n",
    "plt.legend()\n",
    "\n",
    "plt.savefig('alexnet_loss')"
   ]
  },
  {
   "cell_type": "code",
   "execution_count": null,
   "id": "1a25812e-93e0-40d9-975c-7d75240c99db",
   "metadata": {},
   "outputs": [],
   "source": []
  }
 ],
 "metadata": {
  "kernelspec": {
   "display_name": "Python 3 (ipykernel)",
   "language": "python",
   "name": "python3"
  },
  "language_info": {
   "codemirror_mode": {
    "name": "ipython",
    "version": 3
   },
   "file_extension": ".py",
   "mimetype": "text/x-python",
   "name": "python",
   "nbconvert_exporter": "python",
   "pygments_lexer": "ipython3",
   "version": "3.9.12"
  }
 },
 "nbformat": 4,
 "nbformat_minor": 5
}
