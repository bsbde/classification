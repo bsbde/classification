{
 "cells": [
  {
   "cell_type": "code",
   "execution_count": 11,
   "id": "5fe00b68",
   "metadata": {},
   "outputs": [],
   "source": [
    "import torch            \t\t# 导入 torch\n",
    "import torch.nn as nn     \t\t#  torch的网络组建\n",
    "import torch.nn.functional as F\t#  搭建网络\n",
    "import torch.optim as optim\t\t# 优化器\n",
    "import torchvision\t\t\t\t# 数据相关\n",
    "from torchvision import transforms  # 数据处理与增强\n",
    "import time\n",
    "import copy\n",
    "import warnings \n",
    "import matplotlib.pyplot as plt \n",
    "import numpy as np\n",
    "from skimage import io\n",
    "import skimage.transform as tr\n",
    "plt.style.use('seaborn')\n",
    "warnings.filterwarnings('ignore')"
   ]
  },
  {
   "cell_type": "code",
   "execution_count": 12,
   "id": "7d8b06f0",
   "metadata": {},
   "outputs": [],
   "source": [
    "train_dir = 'datasets/train/'\n",
    "test_dir = 'datasets/test/'"
   ]
  },
  {
   "cell_type": "code",
   "execution_count": 13,
   "id": "a2c5bd7a",
   "metadata": {},
   "outputs": [],
   "source": [
    "train_transform = transforms.Compose([\n",
    "    transforms.Resize((128,128)),       #  输入尺寸\n",
    "    transforms.RandomCrop((96,96)),  #  裁剪尺寸\n",
    "    transforms.RandomHorizontalFlip(p=0.5),  # 随机水平翻转\n",
    "    transforms.ColorJitter(\n",
    "        brightness=(0.7,1.3),  # 明暗程度\n",
    "        contrast=(0.7,1.3),    # 对比度\n",
    "        saturation=(0.7,1.3),  # 饱和度\n",
    "        hue=(-0.05,0.05)),     # 颜色\n",
    "    transforms.ToTensor(),    # 数据转为张量并做归一化\n",
    "    transforms.Normalize(   # 数据标准化\n",
    "        mean = [.5,.5,.5],    # RGB均值\n",
    "        std = [.5,.5,.5])      # RGB 方差  （可以使用经验值（查阅））\n",
    "])\n",
    "test_transform = transforms.Compose([\n",
    "    transforms.Resize((96,96)),   # 输入尺寸（在预测中应遵循此尺寸）\n",
    "    transforms.ToTensor(),         # 张量      \n",
    "    transforms.Normalize(         # 标准化\n",
    "        mean = [.5,.5,.5],\n",
    "        std = [.5,.5,.5])\n",
    "])"
   ]
  },
  {
   "cell_type": "code",
   "execution_count": 14,
   "id": "82dd4132",
   "metadata": {},
   "outputs": [],
   "source": [
    "train_ds = torchvision.datasets.ImageFolder(\n",
    "    train_dir,    # 导入训练文件夹路径\n",
    "    transform=train_transform  # 数据处理与增强\n",
    ")\n",
    "test_ds = torchvision.datasets.ImageFolder(\n",
    "    test_dir,     # 导入测试文件夹路径\n",
    "    transform=test_transform   # 数据处理与增强\n",
    "\n",
    ")\n",
    "# 创建dl\n",
    "BATCHSIZE =16  # batch_size的批量尺寸\n",
    "train_dl = torch.utils.data.DataLoader(\n",
    "    train_ds,   # 将打包好的数据生成可迭代的batch_size个数的批量数据\n",
    "    batch_size=BATCHSIZE,  # batch_size 值得选择应对照本机配置\n",
    "    shuffle=True   # 打乱（必须打乱否则模型会识别顺序）\n",
    ")\n",
    "test_dl = torch.utils.data.DataLoader(\n",
    "    test_ds,      \n",
    "    batch_size=BATCHSIZE\n",
    ")"
   ]
  },
  {
   "cell_type": "code",
   "execution_count": 15,
   "id": "abaee73f",
   "metadata": {
    "scrolled": true
   },
   "outputs": [],
   "source": [
    "model = torchvision.models.resnet34(pretrained=True)\n"
   ]
  },
  {
   "cell_type": "code",
   "execution_count": 17,
   "id": "95f94979",
   "metadata": {},
   "outputs": [],
   "source": [
    "# model.features.pool0.kernel_size=2\n",
    "#model.fc.out_features = 9 #设置cat dog的分类\n",
    "# 冻结 卷积基 操作\n",
    "for param in model.parameters():\n",
    "    param.requires_grad = False\n",
    "model.fc=nn.Linear(model.fc.in_features,9)\n",
    "# model.add_module('fc_relu',nn.ReLU(inplace=True))\n",
    "# model.add_module('fc_dp',nn.Dropout(p=0.5, inplace=False))\n",
    "# model.add_module('fc1',nn.Linear(256,9))\n",
    "# model.add_module('fc1_relu',nn.ReLU(inplace=True))\n",
    "# model.add_module('fc1_dp',nn.Dropout(p=0.5, inplace=False))\n"
   ]
  },
  {
   "cell_type": "code",
   "execution_count": 18,
   "id": "0688600e",
   "metadata": {},
   "outputs": [],
   "source": [
    "\n",
    "loss_fn = nn.CrossEntropyLoss()\n",
    "optimizer = torch.optim.Adam(model.parameters(),lr=0.0001)\n",
    "torch.optim.lr_scheduler.StepLR(optimizer,step_size=20,gamma=0.1)\n",
    "device =torch.device('cuda') if torch.cuda.is_available() else torch.device('cpu')\n",
    "model = model.to(device)"
   ]
  },
  {
   "cell_type": "code",
   "execution_count": 19,
   "id": "f196a4bc",
   "metadata": {},
   "outputs": [],
   "source": [
    "# 搭建训练步骤\n",
    "def train(dataloader,model,loss_fn,optimizer):\n",
    "    # acc 当前样本一共有多少个\n",
    "    size = len(dataloader.dataset)\n",
    "    num_batches = len(dataloader)\n",
    "    # 初始化loss值\n",
    "    train_loss,correct = 0,0\n",
    "    model.train()  # 模式为训练模式\n",
    "    for X,y in dataloader:\n",
    "        # 前向传播（推理）\n",
    "        X,y = X.to(device),y.to(device)\n",
    "        pred = model(X)\n",
    "        # 产生误差\n",
    "        loss = loss_fn(pred,y)  # 返回平均误差\n",
    "        # loss = torch.nn.functional.cross_entropy(pred, y)\n",
    "        # 归零权重(固定写法)\n",
    "        optimizer.zero_grad()\n",
    "        # 反向传递\n",
    "        loss.backward()\n",
    "        # 利用梯度下降优化参数\n",
    "        optimizer.step()\n",
    "        # # 放弃张量微分的追踪（小验证）\n",
    "        with torch.no_grad():\n",
    "            train_loss += loss.item()\n",
    "            correct += (pred.argmax(1) == y).type(torch.float).sum().item()\n",
    "    \n",
    "    lr_res = optimizer.state_dict()['param_groups'][0]['lr']\n",
    "    correct /= size        \n",
    "    train_loss /= num_batches\n",
    "    return train_loss,correct,lr_res"
   ]
  },
  {
   "cell_type": "code",
   "execution_count": 20,
   "id": "605f403d",
   "metadata": {},
   "outputs": [],
   "source": [
    "# 搭建测试 （test）\n",
    "def test(dataloader,model):\n",
    "    # acc 当前样本一共有多少个\n",
    "    size = len(dataloader.dataset)\n",
    "    num_batches = len(dataloader)\n",
    "    test_loss,correct = 0,0\n",
    "    model.eval()  # 推理模式\n",
    "    with torch.no_grad():\n",
    "        for X,y in dataloader:\n",
    "            X,y = X.to(device),y.to(device)\n",
    "            pred = model(X)\n",
    "            test_loss += loss_fn(pred,y)\n",
    "            correct += (pred.argmax(1) == y).type(torch.float).sum().item()\n",
    "    correct /= size        \n",
    "    test_loss /= num_batches\n",
    "    return test_loss,correct"
   ]
  },
  {
   "cell_type": "code",
   "execution_count": 21,
   "id": "c1cb8ec6",
   "metadata": {},
   "outputs": [
    {
     "name": "stdout",
     "output_type": "stream",
     "text": [
      "训练epoch1,训练集损失值:1.72,训练集的准确率:39.55%,测试集损失值:1.12,测试集的准确率:61.56%,当前学习率:0.0001,消耗时间：93.19s\n",
      "训练epoch2,训练集损失值:1.30,训练集的准确率:56.05%,测试集损失值:0.95,测试集的准确率:67.46%,当前学习率:0.0001,消耗时间：91.29s\n",
      "训练epoch3,训练集损失值:1.18,训练集的准确率:59.79%,测试集损失值:0.87,测试集的准确率:70.59%,当前学习率:0.0001,消耗时间：91.22s\n",
      "训练epoch4,训练集损失值:1.11,训练集的准确率:62.57%,测试集损失值:0.80,测试集的准确率:73.15%,当前学习率:0.0001,消耗时间：91.59s\n",
      "训练epoch5,训练集损失值:1.08,训练集的准确率:63.70%,测试集损失值:0.80,测试集的准确率:71.84%,当前学习率:0.0001,消耗时间：91.19s\n",
      "训练epoch6,训练集损失值:1.06,训练集的准确率:64.16%,测试集损失值:0.81,测试集的准确率:71.58%,当前学习率:0.0001,消耗时间：91.18s\n",
      "训练epoch7,训练集损失值:1.04,训练集的准确率:64.64%,测试集损失值:0.77,测试集的准确率:72.15%,当前学习率:0.0001,消耗时间：92.38s\n",
      "训练epoch8,训练集损失值:1.02,训练集的准确率:65.32%,测试集损失值:0.78,测试集的准确率:73.36%,当前学习率:0.0001,消耗时间：92.02s\n",
      "训练epoch9,训练集损失值:1.01,训练集的准确率:65.50%,测试集损失值:0.85,测试集的准确率:70.98%,当前学习率:0.0001,消耗时间：91.09s\n",
      "训练epoch10,训练集损失值:0.99,训练集的准确率:66.17%,测试集损失值:0.81,测试集的准确率:71.93%,当前学习率:0.0001,消耗时间：90.88s\n",
      "训练epoch11,训练集损失值:1.01,训练集的准确率:65.30%,测试集损失值:0.82,测试集的准确率:69.93%,当前学习率:0.0001,消耗时间：91.52s\n",
      "训练epoch12,训练集损失值:0.98,训练集的准确率:66.55%,测试集损失值:0.80,测试集的准确率:72.32%,当前学习率:0.0001,消耗时间：89.58s\n",
      "训练epoch13,训练集损失值:0.97,训练集的准确率:66.58%,测试集损失值:0.78,测试集的准确率:72.62%,当前学习率:0.0001,消耗时间：90.23s\n",
      "训练epoch14,训练集损失值:0.97,训练集的准确率:67.08%,测试集损失值:0.80,测试集的准确率:72.32%,当前学习率:0.0001,消耗时间：90.63s\n",
      "训练epoch15,训练集损失值:0.97,训练集的准确率:66.61%,测试集损失值:0.74,测试集的准确率:75.14%,当前学习率:0.0001,消耗时间：90.52s\n",
      "训练epoch16,训练集损失值:0.97,训练集的准确率:66.83%,测试集损失值:0.76,测试集的准确率:74.06%,当前学习率:0.0001,消耗时间：90.62s\n",
      "训练epoch17,训练集损失值:0.96,训练集的准确率:66.69%,测试集损失值:0.74,测试集的准确率:74.10%,当前学习率:0.0001,消耗时间：90.69s\n",
      "训练epoch18,训练集损失值:0.97,训练集的准确率:66.96%,测试集损失值:0.78,测试集的准确率:72.89%,当前学习率:0.0001,消耗时间：90.45s\n",
      "训练epoch19,训练集损失值:0.95,训练集的准确率:67.51%,测试集损失值:0.77,测试集的准确率:73.75%,当前学习率:0.0001,消耗时间：90.39s\n",
      "训练epoch20,训练集损失值:0.96,训练集的准确率:67.12%,测试集损失值:0.77,测试集的准确率:74.06%,当前学习率:0.0001,消耗时间：91.57s\n",
      "训练epoch21,训练集损失值:0.96,训练集的准确率:66.95%,测试集损失值:0.73,测试集的准确率:74.53%,当前学习率:0.0001,消耗时间：90.76s\n",
      "训练epoch22,训练集损失值:0.95,训练集的准确率:67.06%,测试集损失值:0.75,测试集的准确率:73.71%,当前学习率:0.0001,消耗时间：90.61s\n",
      "训练epoch23,训练集损失值:0.95,训练集的准确率:66.93%,测试集损失值:0.73,测试集的准确率:74.53%,当前学习率:0.0001,消耗时间：90.78s\n",
      "训练epoch24,训练集损失值:0.94,训练集的准确率:67.41%,测试集损失值:0.85,测试集的准确率:70.46%,当前学习率:0.0001,消耗时间：90.39s\n",
      "训练epoch25,训练集损失值:0.95,训练集的准确率:67.26%,测试集损失值:0.76,测试集的准确率:73.88%,当前学习率:0.0001,消耗时间：90.48s\n",
      "训练epoch26,训练集损失值:0.94,训练集的准确率:67.84%,测试集损失值:0.74,测试集的准确率:73.71%,当前学习率:0.0001,消耗时间：90.58s\n",
      "训练epoch27,训练集损失值:0.94,训练集的准确率:67.75%,测试集损失值:0.74,测试集的准确率:74.19%,当前学习率:0.0001,消耗时间：90.83s\n",
      "训练epoch28,训练集损失值:0.93,训练集的准确率:68.22%,测试集损失值:0.76,测试集的准确率:73.15%,当前学习率:0.0001,消耗时间：90.62s\n",
      "训练epoch29,训练集损失值:0.93,训练集的准确率:67.53%,测试集损失值:0.73,测试集的准确率:75.66%,当前学习率:0.0001,消耗时间：90.74s\n",
      "训练epoch30,训练集损失值:0.94,训练集的准确率:67.88%,测试集损失值:0.80,测试集的准确率:72.62%,当前学习率:0.0001,消耗时间：91.27s\n",
      "训练epoch31,训练集损失值:0.93,训练集的准确率:67.77%,测试集损失值:0.75,测试集的准确率:73.71%,当前学习率:0.0001,消耗时间：97.81s\n",
      "训练epoch32,训练集损失值:0.94,训练集的准确率:67.83%,测试集损失值:0.78,测试集的准确率:72.71%,当前学习率:0.0001,消耗时间：96.54s\n",
      "训练epoch33,训练集损失值:0.92,训练集的准确率:68.46%,测试集损失值:0.74,测试集的准确率:74.84%,当前学习率:0.0001,消耗时间：90.88s\n",
      "训练epoch34,训练集损失值:0.92,训练集的准确率:68.57%,测试集损失值:0.75,测试集的准确率:74.36%,当前学习率:0.0001,消耗时间：90.86s\n",
      "训练epoch35,训练集损失值:0.93,训练集的准确率:67.81%,测试集损失值:0.74,测试集的准确率:75.05%,当前学习率:0.0001,消耗时间：90.95s\n",
      "训练epoch36,训练集损失值:0.91,训练集的准确率:68.52%,测试集损失值:0.75,测试集的准确率:73.75%,当前学习率:0.0001,消耗时间：91.11s\n",
      "训练epoch37,训练集损失值:0.92,训练集的准确率:68.52%,测试集损失值:0.71,测试集的准确率:75.62%,当前学习率:0.0001,消耗时间：90.92s\n",
      "训练epoch38,训练集损失值:0.93,训练集的准确率:67.97%,测试集损失值:0.77,测试集的准确率:73.28%,当前学习率:0.0001,消耗时间：91.26s\n",
      "训练epoch39,训练集损失值:0.92,训练集的准确率:68.37%,测试集损失值:0.71,测试集的准确率:74.92%,当前学习率:0.0001,消耗时间：97.72s\n",
      "训练epoch40,训练集损失值:0.92,训练集的准确率:68.31%,测试集损失值:0.77,测试集的准确率:72.80%,当前学习率:0.0001,消耗时间：97.35s\n",
      "训练epoch41,训练集损失值:0.90,训练集的准确率:68.62%,测试集损失值:0.75,测试集的准确率:73.88%,当前学习率:0.0001,消耗时间：96.11s\n",
      "训练epoch42,训练集损失值:0.93,训练集的准确率:67.84%,测试集损失值:0.71,测试集的准确率:75.31%,当前学习率:0.0001,消耗时间：96.32s\n",
      "训练epoch43,训练集损失值:0.91,训练集的准确率:68.48%,测试集损失值:0.75,测试集的准确率:74.45%,当前学习率:0.0001,消耗时间：93.72s\n",
      "训练epoch44,训练集损失值:0.92,训练集的准确率:68.14%,测试集损失值:0.75,测试集的准确率:74.40%,当前学习率:0.0001,消耗时间：92.90s\n",
      "训练epoch45,训练集损失值:0.91,训练集的准确率:68.85%,测试集损失值:0.73,测试集的准确率:75.27%,当前学习率:0.0001,消耗时间：93.69s\n",
      "训练epoch46,训练集损失值:0.93,训练集的准确率:67.96%,测试集损失值:0.77,测试集的准确率:73.49%,当前学习率:0.0001,消耗时间：84.07s\n",
      "训练epoch47,训练集损失值:0.92,训练集的准确率:67.79%,测试集损失值:0.75,测试集的准确率:74.40%,当前学习率:0.0001,消耗时间：81.76s\n",
      "训练epoch48,训练集损失值:0.92,训练集的准确率:68.52%,测试集损失值:0.68,测试集的准确率:76.70%,当前学习率:0.0001,消耗时间：81.92s\n",
      "训练epoch49,训练集损失值:0.91,训练集的准确率:68.69%,测试集损失值:0.74,测试集的准确率:73.80%,当前学习率:0.0001,消耗时间：82.00s\n",
      "训练epoch50,训练集损失值:0.92,训练集的准确率:68.17%,测试集损失值:0.75,测试集的准确率:74.45%,当前学习率:0.0001,消耗时间：81.36s\n",
      "训练结束并保存最好权重模型\n"
     ]
    }
   ],
   "source": [
    "best_model_wts = copy.deepcopy(model.state_dict()) # 用以记录模型最优参数\n",
    "best_acc = 0.0\n",
    "epochs = 50\n",
    "train_acc = []\n",
    "train_loss = []\n",
    "test_acc = []\n",
    "test_loss = []\n",
    "for epoch in range(epochs):\n",
    "    start  =  time.time()\n",
    "    epoch_loss,epoch_acc,lr = train(dataloader=train_dl,model=model,loss_fn=loss_fn,optimizer=optimizer)\n",
    "    epoch_test_loss,epoch_test_acc = test(dataloader=test_dl,model=model)\n",
    "    end = time.time()\n",
    "    times = end - start \n",
    "    train_acc.append(epoch_acc)\n",
    "    train_loss.append(epoch_loss)\n",
    "    test_acc.append(epoch_test_acc)\n",
    "    test_loss.append(epoch_test_loss)\n",
    "    print('训练epoch{},训练集损失值:{:.2f},训练集的准确率:{:.2f}%,测试集损失值:{:.2f},测试集的准确率:{:.2f}%,当前学习率:{},消耗时间：{:.2f}s'.\n",
    "          format(epoch+1,epoch_loss,epoch_acc*100,epoch_test_loss,epoch_test_acc*100,lr,times))\n",
    "    # 保存best——model\n",
    "    if epoch_test_acc > best_acc:  # 如果当前的test_acc 高于best_acc 执行保存\n",
    "        best_acc = epoch_test_acc\n",
    "        best_model_wts = copy.deepcopy(model.state_dict())\n",
    "print('训练结束并保存最好权重模型')"
   ]
  },
  {
   "cell_type": "code",
   "execution_count": null,
   "id": "5fa85153",
   "metadata": {},
   "outputs": [],
   "source": [
    "torch.save(model.state_dict(),'resnet34.pth')"
   ]
  },
  {
   "cell_type": "code",
   "execution_count": 30,
   "id": "2f1ad516",
   "metadata": {},
   "outputs": [
    {
     "data": {
      "image/png": "[encoded data removed]",
      "text/plain": [
       "<Figure size 576x396 with 1 Axes>"
      ]
     },
     "metadata": {},
     "output_type": "display_data"
    }
   ],
   "source": [
    "### 训练曲线可视化\n",
    "# 准确率\n",
    "train_acc_max_index = np.argmax(np.array(train_acc))\n",
    "train_acc_max_value = round(train_acc[train_acc_max_index],6)\n",
    "test_acc_max_index = np.argmax(np.array(test_acc))\n",
    "test_acc_max_value = round(test_acc[test_acc_max_index],6)\n",
    "\n",
    "s = train_acc_max_value\n",
    "s_test = test_acc_max_value\n",
    "plt.plot(range(1,epoch+2),train_acc,label='train_acc')\n",
    "plt.plot(range(1,epoch+2),test_acc,label='test_acc')\n",
    "plt.text(train_acc_max_index, train_acc_max_value-0.02, s)\n",
    "plt.text(test_acc_max_index, test_acc_max_value+0.01, s_test)\n",
    "plt.plot(train_acc_max_index+1,train_acc_max_value,'bo')\n",
    "plt.plot(test_acc_max_index+1,test_acc_max_value,'go')\n",
    "plt.title('resnet34(Dropout) Acc values')\n",
    "plt.ylim(0.5,1.08)\n",
    "plt.xlim(0,51)\n",
    "plt.legend()\n",
    "plt.savefig('resnet34-acc')"
   ]
  },
  {
   "cell_type": "code",
   "execution_count": 29,
   "id": "84052dce-bf9e-4c7c-adce-ce09d3217422",
   "metadata": {},
   "outputs": [
    {
     "data": {
      "image/png": "[encoded data removed]",
      "text/plain": [
       "<Figure size 576x396 with 1 Axes>"
      ]
     },
     "metadata": {},
     "output_type": "display_data"
    }
   ],
   "source": [
    "## 训练曲线可视化\n",
    "# 损失值\n",
    "train_loss_min_index = np.argmin(np.array(train_loss))\n",
    "train_loss_min_value = round(train_loss[train_loss_min_index],6)\n",
    "# test_loss = torch.stack(test_loss).cpu().numpy()\n",
    "test_loss_min_index = np.argmin(test_loss)\n",
    "test_loss_min_value = round(test_loss[test_loss_min_index],6)\n",
    "\n",
    "s = train_loss_min_value\n",
    "s_test = test_loss_min_value\n",
    "plt.plot(range(1,51),train_loss,label='train_loss')\n",
    "plt.plot(range(1,51),test_loss,label='test_loss')\n",
    "plt.text(train_loss_min_index, train_loss_min_value+0.1, s)\n",
    "plt.text(test_loss_min_index, test_loss_min_value+0.1, s_test)\n",
    "plt.plot(train_loss_min_index+1,train_loss_min_value,'ro')\n",
    "plt.plot(test_loss_min_index+1,test_loss_min_value,'bo')\n",
    "plt.title('resnet34- Loss values')\n",
    "plt.legend()\n",
    "\n",
    "plt.savefig('resnet34-loss')"
   ]
  },
  {
   "cell_type": "code",
   "execution_count": null,
   "id": "ada51105-783a-4aa9-8dbb-b0215443216e",
   "metadata": {},
   "outputs": [],
   "source": []
  }
 ],
 "metadata": {
  "kernelspec": {
   "display_name": "Python 3 (ipykernel)",
   "language": "python",
   "name": "python3"
  },
  "language_info": {
   "codemirror_mode": {
    "name": "ipython",
    "version": 3
   },
   "file_extension": ".py",
   "mimetype": "text/x-python",
   "name": "python",
   "nbconvert_exporter": "python",
   "pygments_lexer": "ipython3",
   "version": "3.9.12"
  }
 },
 "nbformat": 4,
 "nbformat_minor": 5
}
